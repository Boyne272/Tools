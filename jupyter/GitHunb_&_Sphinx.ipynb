{
  "nbformat": 4,
  "nbformat_minor": 0,
  "metadata": {
    "colab": {
      "name": "GitHunb & Sphinx.ipynb",
      "version": "0.3.2",
      "provenance": [],
      "collapsed_sections": [
        "lbQCGqPuemk2",
        "c3n0brBIjHmk",
        "fGU2rnWXenib",
        "JNxuzEzXfkyK",
        "cTGMU5-nQ_a1"
      ],
      "toc_visible": true
    },
    "kernelspec": {
      "name": "python3",
      "display_name": "Python 3"
    }
  },
  "cells": [
    {
      "cell_type": "markdown",
      "metadata": {
        "colab_type": "text",
        "id": "lbQCGqPuemk2"
      },
      "source": [
        "# GitHub Clone\n",
        "Clone a github repo locally to work on it"
      ]
    },
    {
      "cell_type": "code",
      "metadata": {
        "id": "Fsxg_VcBEG8U",
        "colab_type": "code",
        "outputId": "0b339db3-7a65-4460-efed-dd858990c3e7",
        "colab": {
          "base_uri": "https://localhost:8080/",
          "height": 284
        }
      },
      "source": [
        "\"\"\"\n",
        "This is a small section fo code to pull a github repo into the google colab\n",
        "environment. Caution is needed as the password you give is stored in the git\n",
        "remotes, hence if you run anything like 'git remote -v' will show your password.\n",
        "Note if your github password has an @ in it then this will not work.\n",
        "\"\"\"\n",
        "\n",
        "\n",
        "import os\n",
        "from getpass import getpass\n",
        "\n",
        "\n",
        "# inputs\n",
        "username = \"Boyne272\"\n",
        "clone_url = \"https://github.com/Boyne272/acse-9-independent-research-project-Boyne272.git\"\n",
        "name = \"Richard Boyne\"    \n",
        "email = \"rmb115@ic.ac.uk\"\n",
        "\n",
        "\n",
        "# remove sample data if it is there\n",
        "if os.path.isdir(\"sample_data\"):\n",
        "    !rm -r sample_data\n",
        "\n",
        "\n",
        "# if we are not currently in a repo\n",
        "if not os.path.isdir(\".git\"):\n",
        "    \n",
        "    # get password\n",
        "    password = getpass('github password: ')\n",
        "    os.environ['GITHUB_AUTH'] = clone_url[:8] + username + ':' + password + '@' + clone_url[8:]\n",
        "    del password\n",
        "    \n",
        "    # clone the repo and move into it\n",
        "    !cp -r .config ..\n",
        "    !rm -r .config\n",
        "    !git clone $GITHUB_AUTH . #--quiet # reduce the output of clone\n",
        "    !cp -r ../.config .\n",
        "    !rm -r ../.config\n",
        "    \n",
        "    \n",
        "# set name and email for commits\n",
        "os.environ['GITHUB_AUTH'] = email\n",
        "!git config --global user.email $GITHUB_AUTH\n",
        "os.environ['GITHUB_AUTH'] = name\n",
        "!git config --global user.name $GITHUB_AUTH\n",
        "\n",
        "\n",
        "# show where we are\n",
        "!git show --summary"
      ],
      "execution_count": 1,
      "outputs": [
        {
          "output_type": "stream",
          "text": [
            "github password: ··········\n",
            "Cloning into '.'...\n",
            "remote: Enumerating objects: 1013, done.\u001b[K\n",
            "remote: Total 1013 (delta 0), reused 0 (delta 0), pack-reused 1013\u001b[K\n",
            "Receiving objects: 100% (1013/1013), 370.92 MiB | 30.69 MiB/s, done.\n",
            "Resolving deltas: 100% (481/481), done.\n",
            "Checking out files: 100% (244/244), done.\n",
            "* \u001b[32mmaster\u001b[m\n",
            "\u001b[33mcommit ee1a856d5125fff34b6a5a43beed3294f5c35540\u001b[m\u001b[33m (\u001b[m\u001b[1;36mHEAD -> \u001b[m\u001b[1;32mmaster\u001b[m\u001b[33m, \u001b[m\u001b[1;31morigin/master\u001b[m\u001b[33m, \u001b[m\u001b[1;31morigin/HEAD\u001b[m\u001b[33m)\u001b[m\n",
            "Merge: ba4164e c113a02\n",
            "Author: Deirdree <deirdree.polakQgmail.com>\n",
            "Date:   Thu Aug 29 16:16:21 2019 +0000\n",
            "\n",
            "    pulled webpage updates from forked repo\n",
            "\n"
          ],
          "name": "stdout"
        }
      ]
    },
    {
      "cell_type": "markdown",
      "metadata": {
        "id": "c3n0brBIjHmk",
        "colab_type": "text"
      },
      "source": [
        "# Github Space\n",
        "Used these cells for pushing and pulling from GitHub"
      ]
    },
    {
      "cell_type": "code",
      "metadata": {
        "id": "fEQEyy8Dijx5",
        "colab_type": "code",
        "colab": {}
      },
      "source": [
        "!git status"
      ],
      "execution_count": 0,
      "outputs": []
    },
    {
      "cell_type": "code",
      "metadata": {
        "id": "WESLGAs6edqJ",
        "colab_type": "code",
        "colab": {}
      },
      "source": [
        "!git add "
      ],
      "execution_count": 0,
      "outputs": []
    },
    {
      "cell_type": "code",
      "metadata": {
        "id": "LuexGINLed0y",
        "colab_type": "code",
        "colab": {}
      },
      "source": [
        "!git commit -m "
      ],
      "execution_count": 0,
      "outputs": []
    },
    {
      "cell_type": "code",
      "metadata": {
        "id": "wLSuTKPpegVN",
        "colab_type": "code",
        "colab": {}
      },
      "source": [
        "!git push "
      ],
      "execution_count": 0,
      "outputs": []
    },
    {
      "cell_type": "markdown",
      "metadata": {
        "id": "NWo6Zmf0v4W-",
        "colab_type": "text"
      },
      "source": [
        "# Sphinx"
      ]
    },
    {
      "cell_type": "markdown",
      "metadata": {
        "id": "fGU2rnWXenib",
        "colab_type": "text"
      },
      "source": [
        "## Spinx Setup\n",
        "Create the documents to setup shpinx, only need to run once."
      ]
    },
    {
      "cell_type": "code",
      "metadata": {
        "id": "SBs6Gk_0wAnn",
        "colab_type": "code",
        "colab": {}
      },
      "source": [
        "# make dirs you will need\n",
        "!mkdir sphinx\n",
        "!mkdir docs"
      ],
      "execution_count": 0,
      "outputs": []
    },
    {
      "cell_type": "code",
      "metadata": {
        "id": "62GoocFGv621",
        "colab_type": "code",
        "colab": {}
      },
      "source": [
        "%cd sphinx\n",
        "!sphinx-quickstart # choose all defaults, except for the autodocs (choose yes)"
      ],
      "execution_count": 0,
      "outputs": []
    },
    {
      "cell_type": "code",
      "metadata": {
        "id": "32D026hBlc-w",
        "colab_type": "code",
        "colab": {}
      },
      "source": [
        "# these ensure git commit does not miss these folders\n",
        "!touch /content/sphinx/_build/placeholder\n",
        "!touch /content/sphinx/_build/placeholder\n",
        "!touch /content/docs/placeholder"
      ],
      "execution_count": 0,
      "outputs": []
    },
    {
      "cell_type": "markdown",
      "metadata": {
        "id": "4b6h5iOPgyKp",
        "colab_type": "text"
      },
      "source": [
        "Now sphinx is setup :)"
      ]
    },
    {
      "cell_type": "markdown",
      "metadata": {
        "id": "JNxuzEzXfkyK",
        "colab_type": "text"
      },
      "source": [
        "## Recomended Bits"
      ]
    },
    {
      "cell_type": "markdown",
      "metadata": {
        "id": "UUye2PXmkY7t",
        "colab_type": "text"
      },
      "source": [
        "### Sphinx finding your files\n",
        "\n",
        "inside cof.py you need to use the following to get shpinx to find your packages\n",
        "```\n",
        "import sys\n",
        "sys.path.append('abs_path_to_your_files')\n",
        "import your_modlue # to test it found it ok\n",
        "```\n",
        "or your prefered python import hack"
      ]
    },
    {
      "cell_type": "markdown",
      "metadata": {
        "id": "iaNePrUYfnzd",
        "colab_type": "text"
      },
      "source": [
        "### magic make file line\n",
        "it took many hours to figure out that sphinx was building in python 2.7\n",
        "for some retarded reason by default, which breaks some of this packages\n",
        "dependencies hence it fails to build the documentation.\n",
        "this hack line in the makefile forces sphinx to use python 3\n",
        "```\n",
        "SPHINXBUILD   = python3 -c \"import sys,sphinx;sys.exit(sphinx.main(sys.argv))\"\n",
        "```"
      ]
    },
    {
      "cell_type": "markdown",
      "metadata": {
        "id": "QAlxPEe7h6nA",
        "colab_type": "text"
      },
      "source": [
        "### Auto-docs\n",
        "This must be turned on in the extensions (no aditionall pip intillation needed).\n",
        "```\n",
        "extensions = [ .. ,\n",
        "    'sphinx.ext.autodoc',\n",
        "    'sphinx.ext.napoleon',\n",
        "\t.. ]\n",
        "```\n",
        "\n",
        "I also recommend the napoleon extension if you are following numpy conventions like so\n",
        "```\n",
        "def square(number):\n",
        "    \"\"\"\n",
        "    This is an example function\n",
        "    \n",
        "    \n",
        "    Parameters\n",
        "    ----------\n",
        "    number : float\n",
        "        this is a number\n",
        "    \n",
        "    \n",
        "    Returns\n",
        "    -------\n",
        "    sqaure : float\n",
        "        the square of number\n",
        "    \n",
        "    \"\"\"\n",
        "```"
      ]
    },
    {
      "cell_type": "markdown",
      "metadata": {
        "id": "G2IZYuvMh8Om",
        "colab_type": "text"
      },
      "source": [
        "### change the theme\n",
        "Here sphinx_rtd_theme used as example, it must be pip installed before generating docsting (shown in next section). The following must be changed in conf.py\n",
        "```\n",
        "import sphinx_rtd_theme\n",
        "extensions = [ .. , 'sphinx_rtd_theme', ..]\n",
        "html_theme = 'sphinx_rtd_theme'\n",
        "```\n",
        "\n",
        "It is important that sphinx can find the package to do this import. For this in google collab the following lines are needed\n",
        "```\n",
        "import os\n",
        "import sys\n",
        "sys.path.append('/usr/local/lib/python3.6/dist-packages/')\n",
        "```"
      ]
    },
    {
      "cell_type": "markdown",
      "metadata": {
        "id": "xE2yVZ1siFsb",
        "colab_type": "text"
      },
      "source": [
        "### Cascading Pages\n",
        "Inside index.rst you have different sections by adding\n",
        "```\n",
        ".. toctree::\n",
        "   :maxdepth: 2\n",
        "   :caption: section_name:\n",
        "```\n",
        "\n",
        "You can also have cascading bulitpoints by pointing to another rst file\n",
        "```\n",
        "displayed_name <path_to_rst>\n",
        "```"
      ]
    },
    {
      "cell_type": "markdown",
      "metadata": {
        "id": "_XSRCdg0i-8G",
        "colab_type": "text"
      },
      "source": [
        "### GitHub Pages\n",
        "Github can be told to look in the docs folder for an index.html (which shpinx makes) and host this page. This is done in the later cells."
      ]
    },
    {
      "cell_type": "markdown",
      "metadata": {
        "id": "cTGMU5-nQ_a1",
        "colab_type": "text"
      },
      "source": [
        "## Generate Documentation"
      ]
    },
    {
      "cell_type": "code",
      "metadata": {
        "id": "m9lEMU89RLw4",
        "colab_type": "code",
        "colab": {}
      },
      "source": [
        "# install prefered theme (if one is chosen)\n",
        "!pip install sphinx-rtd-theme\n",
        "\n",
        "# check it exists\n",
        "import sphinx_rtd_theme\n",
        "print(sphinx_rtd_theme.__file__)"
      ],
      "execution_count": 0,
      "outputs": []
    },
    {
      "cell_type": "code",
      "metadata": {
        "colab_type": "code",
        "id": "qeHCwjNRHDum",
        "colab": {}
      },
      "source": [
        "# make the documentation\n",
        "%cd /content/sphinx\n",
        "!make clean\n",
        "!make html"
      ],
      "execution_count": 0,
      "outputs": []
    },
    {
      "cell_type": "code",
      "metadata": {
        "id": "X9gEdMQNR5SA",
        "colab_type": "code",
        "colab": {}
      },
      "source": [
        "# zip and download html to check it looks good\n",
        "!zip -r _build/html.zip _build/html\n",
        "from google.colab import files\n",
        "files.download(\"_build/html.zip\")"
      ],
      "execution_count": 0,
      "outputs": []
    },
    {
      "cell_type": "code",
      "metadata": {
        "id": "X1wnCaDKSGPc",
        "colab_type": "code",
        "colab": {}
      },
      "source": [
        "# empty docs and copy html across\n",
        "!rm -r /content/TSA_repo/docs/*\n",
        "!cp -r /content/TSA_repo/sphinx/_build/html/* /content/TSA_repo/docs/\n",
        "\n",
        "# create the .nojekyll file that stops github pages missing your css files\n",
        "!touch docs/.nojekyll"
      ],
      "execution_count": 0,
      "outputs": []
    },
    {
      "cell_type": "code",
      "metadata": {
        "id": "Eeblxa8pxCUO",
        "colab_type": "code",
        "colab": {}
      },
      "source": [
        "# clean the build directory to prevent wasting github space\n",
        "%cd /content/sphinx\n",
        "!make clean\n",
        "!touch /content/TSA_repo/sphinx/_build/placeholder"
      ],
      "execution_count": 0,
      "outputs": []
    }
  ]
}